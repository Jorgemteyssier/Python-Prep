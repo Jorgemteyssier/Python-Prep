{
 "cells": [
  {
   "attachments": {},
   "cell_type": "markdown",
   "metadata": {},
   "source": [
    "## Funciones"
   ]
  },
  {
   "attachments": {},
   "cell_type": "markdown",
   "metadata": {},
   "source": [
    "1) Crear una función que reciba un número como parámetro y devuelva True si es primo y False si no lo es"
   ]
  },
  {
   "cell_type": "code",
   "execution_count": 1,
   "metadata": {},
   "outputs": [],
   "source": [
    "def primo(x):\n",
    "    numprim=True\n",
    "    if x >1:\n",
    "        for i in range(2,x):\n",
    "            if x%i==0:\n",
    "                numprim=False\n",
    "                if (numprim==False):\n",
    "                    return False\n",
    "                    break\n",
    "        if (numprim):\n",
    "            return True           \n",
    "    else:\n",
    "        return False\n",
    "\n"
   ]
  },
  {
   "cell_type": "code",
   "execution_count": 2,
   "metadata": {},
   "outputs": [
    {
     "name": "stdout",
     "output_type": "stream",
     "text": [
      "True\n",
      "False\n",
      "False\n"
     ]
    }
   ],
   "source": [
    "print(primo(1597))\n",
    "print(primo(-5))\n",
    "print(primo(121))"
   ]
  },
  {
   "attachments": {},
   "cell_type": "markdown",
   "metadata": {},
   "source": [
    "2) Utilizando la función del punto 1, realizar otra función que reciba de parámetro una lista de números y devuelva sólo aquellos que son primos en otra lista"
   ]
  },
  {
   "cell_type": "code",
   "execution_count": 3,
   "metadata": {},
   "outputs": [],
   "source": [
    "x=[1,2,3,4,5,6,7,8,9,10,11,12,13,14,15,16,17,18,19,20,21,22,23]"
   ]
  },
  {
   "cell_type": "code",
   "execution_count": 4,
   "metadata": {},
   "outputs": [],
   "source": [
    "def listaprimos(lis):\n",
    "    if type(lis)==list:\n",
    "        resultado=[]\n",
    "        for x in lis:\n",
    "            if primo(x):\n",
    "                resultado.append(x)\n",
    "        return resultado\n",
    "    else:\n",
    "        return 'Esto no es una lista'\n",
    "\n"
   ]
  },
  {
   "cell_type": "code",
   "execution_count": 5,
   "metadata": {},
   "outputs": [
    {
     "data": {
      "text/plain": [
       "'Esto no es una lista'"
      ]
     },
     "execution_count": 5,
     "metadata": {},
     "output_type": "execute_result"
    }
   ],
   "source": [
    "y=9\n",
    "listaprimos(9)"
   ]
  },
  {
   "cell_type": "code",
   "execution_count": 6,
   "metadata": {},
   "outputs": [
    {
     "data": {
      "text/plain": [
       "[2, 3, 5, 7, 11, 13, 17, 19, 23]"
      ]
     },
     "execution_count": 6,
     "metadata": {},
     "output_type": "execute_result"
    }
   ],
   "source": [
    "listaprimos(x)"
   ]
  },
  {
   "attachments": {},
   "cell_type": "markdown",
   "metadata": {},
   "source": [
    "3) Crear una función que al recibir una lista de números, devuelva el que más se repite y cuántas veces lo hace. Si hay más de un \"más repetido\", que devuelva cualquiera"
   ]
  },
  {
   "cell_type": "code",
   "execution_count": 7,
   "metadata": {},
   "outputs": [],
   "source": [
    "#Aunque no lo hemos visto aplique el comando max(), el cual te da el valor más alto dentro de una lista\n",
    "#Así solo hay que contar cada valor de la lista y meterlos en una lista sacar el maximo y compararlo con el conteo de la lista original, así va a dar el primer valor más repetido\n",
    "def funcion_repetidos(a):\n",
    "    if len(a)==0:\n",
    "        return None\n",
    "    a.sort()\n",
    "    lis12=[]\n",
    "    for z in a:\n",
    "        b=a.count(z)\n",
    "        lis12.append(b)\n",
    "    for t in a:\n",
    "        u=a.count(t)\n",
    "        if u == max(lis12):\n",
    "            return print(f'{t} es el número qué más se repite, se repite {u} veces')\n",
    "\n",
    "#Si queremos devolver valores que no sean str sustituimos el return por t,u y devolvería la tupla con el número que mas se repite, las veces que se repite"
   ]
  },
  {
   "cell_type": "code",
   "execution_count": 8,
   "metadata": {},
   "outputs": [
    {
     "name": "stdout",
     "output_type": "stream",
     "text": [
      "8 es el número qué más se repite, se repite 10 veces\n"
     ]
    }
   ],
   "source": [
    "promedios=[10,8,6,9,9,7,10,5,4,7,7,10,8,6,9,9,7,10,5,4,7,7,8,8,8,5,8,3,8,8,0,8,8]\n",
    "funcion_repetidos(promedios)"
   ]
  },
  {
   "cell_type": "code",
   "execution_count": 9,
   "metadata": {},
   "outputs": [],
   "source": [
    "#comparando con el código de la tarea ya resuelta al no usar el comando max() suponiendo que al no saber de su existencia no existe, el código se hace más largo\n",
    "#ya que se agrega un codigo muy similar al que tiene por debajo max()\n",
    "#para fines préctico usar max() facilita y optimiza todo "
   ]
  },
  {
   "cell_type": "code",
   "execution_count": 10,
   "metadata": {},
   "outputs": [],
   "source": [
    "a='hola mundo'"
   ]
  },
  {
   "attachments": {},
   "cell_type": "markdown",
   "metadata": {},
   "source": [
    "4) Crear una función que convierta entre grados Celsius, Farenheit y Kelvin<br>\n",
    "Fórmula 1\t: (°C × 9/5) + 32 = °F<br>\n",
    "Fórmula 2\t: °C + 273.15 = °K<br>\n",
    "Debe recibir 3 parámetros: el valor, la medida de orígen y la medida de destino\n"
   ]
  },
  {
   "cell_type": "code",
   "execution_count": 11,
   "metadata": {},
   "outputs": [],
   "source": [
    "def calculadora_grados(grados,tipo,nuevotipo):\n",
    "    if tipo=='Celsius' and nuevotipo=='Farenheit':\n",
    "        resultado=(grados*(9/5))+32\n",
    "    elif tipo=='Celsius' and nuevotipo=='Kelvin':\n",
    "        resultado=(grados+273.15)\n",
    "    elif tipo=='Farenheit' and nuevotipo=='Celsius':\n",
    "        resultado=(grados-32)*(5/9)\n",
    "    elif tipo == 'Farenheit' and nuevotipo == 'Kelvin':\n",
    "        resultado=(grados-32)*(5/9)+273.15\n",
    "    elif tipo=='Kelvin' and nuevotipo=='Celsius':\n",
    "        resultado=(grados-273.15)\n",
    "    elif tipo=='Kelvin' and nuevotipo=='Farenheit':\n",
    "        resultado=((grados-273.15)*(9/5))+32\n",
    "    elif tipo==nuevotipo:\n",
    "        resultado=grados\n",
    "    else:\n",
    "        resultado=\"Parámetro incorrecto. Usa 'Celsius', 'Farenheit' o 'Kelvin\"\n",
    "    return resultado\n",
    "\n",
    "#Comparando con el código de la tarea resuleto es muy similar con la diferencia que usé la operación lógica 'and' por lo que ahorre muchos condicionales \n"
   ]
  },
  {
   "cell_type": "code",
   "execution_count": 12,
   "metadata": {},
   "outputs": [
    {
     "data": {
      "text/plain": [
       "-99.66999999999996"
      ]
     },
     "execution_count": 12,
     "metadata": {},
     "output_type": "execute_result"
    }
   ],
   "source": [
    "calculadora_grados(200,'Kelvin','Farenheit')"
   ]
  },
  {
   "cell_type": "code",
   "execution_count": 13,
   "metadata": {},
   "outputs": [
    {
     "data": {
      "text/plain": [
       "-73.14999999999998"
      ]
     },
     "execution_count": 13,
     "metadata": {},
     "output_type": "execute_result"
    }
   ],
   "source": [
    "calculadora_grados(200,'Kelvin','Celsius')"
   ]
  },
  {
   "cell_type": "code",
   "execution_count": 14,
   "metadata": {},
   "outputs": [
    {
     "data": {
      "text/plain": [
       "392.0"
      ]
     },
     "execution_count": 14,
     "metadata": {},
     "output_type": "execute_result"
    }
   ],
   "source": [
    "calculadora_grados(200,'Celsius','Farenheit')"
   ]
  },
  {
   "cell_type": "code",
   "execution_count": 15,
   "metadata": {},
   "outputs": [
    {
     "data": {
      "text/plain": [
       "473.15"
      ]
     },
     "execution_count": 15,
     "metadata": {},
     "output_type": "execute_result"
    }
   ],
   "source": [
    "calculadora_grados(200,'Celsius','Kelvin')"
   ]
  },
  {
   "cell_type": "code",
   "execution_count": 16,
   "metadata": {},
   "outputs": [
    {
     "data": {
      "text/plain": [
       "93.33333333333334"
      ]
     },
     "execution_count": 16,
     "metadata": {},
     "output_type": "execute_result"
    }
   ],
   "source": [
    "calculadora_grados(200,'Farenheit','Celsius')"
   ]
  },
  {
   "cell_type": "code",
   "execution_count": 17,
   "metadata": {},
   "outputs": [
    {
     "data": {
      "text/plain": [
       "93.33333333333334"
      ]
     },
     "execution_count": 17,
     "metadata": {},
     "output_type": "execute_result"
    }
   ],
   "source": [
    "calculadora_grados(200,'Farenheit','Celsius')"
   ]
  },
  {
   "cell_type": "code",
   "execution_count": 23,
   "metadata": {},
   "outputs": [
    {
     "data": {
      "text/plain": [
       "\"Parámetro incorrecto. Usa 'Celsius', 'Farenheit' o 'Kelvin\""
      ]
     },
     "execution_count": 23,
     "metadata": {},
     "output_type": "execute_result"
    }
   ],
   "source": [
    "calculadora_grados(200,'Farenhei','Celsius')"
   ]
  },
  {
   "cell_type": "code",
   "execution_count": 19,
   "metadata": {},
   "outputs": [
    {
     "data": {
      "text/plain": [
       "\"Parámetro incorrecto. Usa 'Celsius', 'Farenheit' o 'Kelvin\""
      ]
     },
     "execution_count": 19,
     "metadata": {},
     "output_type": "execute_result"
    }
   ],
   "source": [
    "calculadora_grados(200,'Fareneit','Farenheit')"
   ]
  },
  {
   "attachments": {},
   "cell_type": "markdown",
   "metadata": {},
   "source": [
    "5) Iterando una lista con los tres valores posibles de temperatura que recibe la función del punto 5, hacer un print para cada combinación de los mismos:"
   ]
  },
  {
   "cell_type": "code",
   "execution_count": 22,
   "metadata": {},
   "outputs": [
    {
     "name": "stdout",
     "output_type": "stream",
     "text": [
      "grados Celsius a grados Celsius\n",
      "grados Celsius a grados Farenheit\n",
      "grados Celsius a grados Kelvin\n",
      "grados Farenheit a grados Celsius\n",
      "grados Farenheit a grados Farenheit\n",
      "grados Farenheit a grados Kelvin\n",
      "grados Kelvin a grados Celsius\n",
      "grados Kelvin a grados Farenheit\n",
      "grados Kelvin a grados Kelvin\n"
     ]
    }
   ],
   "source": [
    "grados=['Celsius','Farenheit','Kelvin']\n",
    "for i in range(0,3):\n",
    "    for h in range (0,3):\n",
    "        print(f'grados {grados[i]} a grados {grados[h]}')\n",
    "    "
   ]
  },
  {
   "attachments": {},
   "cell_type": "markdown",
   "metadata": {},
   "source": [
    "6) Armar una función que devuelva el factorial de un número. Tener en cuenta que el usuario puede equivocarse y enviar de parámetro un número no entero o negativo"
   ]
  },
  {
   "cell_type": "code",
   "execution_count": 26,
   "metadata": {},
   "outputs": [],
   "source": [
    "def factorial(x):\n",
    "    if type(x)!=int:\n",
    "        return 'El número debe ser entero'\n",
    "    if x==0:\n",
    "        return 1\n",
    "    if x<0:\n",
    "        return 'El número debe de ser entero'\n",
    "    x=x*factorial(x-1)\n",
    "    return x\n",
    "        \n",
    "\n",
    "        "
   ]
  }
 ],
 "metadata": {
  "interpreter": {
   "hash": "c85384e4cb51c8b72350f3a8712cc8351fdc3955e32a27f9b60c6242ab125f01"
  },
  "kernelspec": {
   "display_name": "Python 3 (ipykernel)",
   "language": "python",
   "name": "python3"
  },
  "language_info": {
   "codemirror_mode": {
    "name": "ipython",
    "version": 3
   },
   "file_extension": ".py",
   "mimetype": "text/x-python",
   "name": "python",
   "nbconvert_exporter": "python",
   "pygments_lexer": "ipython3",
   "version": "3.10.5"
  }
 },
 "nbformat": 4,
 "nbformat_minor": 4
}
