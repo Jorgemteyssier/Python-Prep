{
 "cells": [
  {
   "attachments": {},
   "cell_type": "markdown",
   "metadata": {},
   "source": [
    "## Iteradores e iterables"
   ]
  },
  {
   "attachments": {},
   "cell_type": "markdown",
   "metadata": {},
   "source": [
    "1) A partir de una lista vacía, utilizar un ciclo while para cargar allí números negativos del -15 al -1"
   ]
  },
  {
   "cell_type": "code",
   "execution_count": 6,
   "metadata": {},
   "outputs": [],
   "source": [
    "lista_vacia=[]\n",
    "x=-1\n",
    "while x>-16:\n",
    "    lista_vacia.append(x)\n",
    "    x-=1\n"
   ]
  },
  {
   "cell_type": "code",
   "execution_count": 8,
   "metadata": {},
   "outputs": [
    {
     "name": "stdout",
     "output_type": "stream",
     "text": [
      "[-15, -14, -13, -12, -11, -10, -9, -8, -7, -6, -5, -4, -3, -2, -1]\n"
     ]
    }
   ],
   "source": [
    "lista_vacia.sort()\n",
    "print(lista_vacia)"
   ]
  },
  {
   "attachments": {},
   "cell_type": "markdown",
   "metadata": {},
   "source": [
    "2) ¿Con un ciclo while sería posible recorrer la lista para imprimir sólo los números pares?"
   ]
  },
  {
   "cell_type": "code",
   "execution_count": 9,
   "metadata": {},
   "outputs": [
    {
     "name": "stdout",
     "output_type": "stream",
     "text": [
      "-14\n",
      "-12\n",
      "-10\n",
      "-8\n",
      "-6\n",
      "-4\n",
      "-2\n"
     ]
    }
   ],
   "source": [
    "#Sí\n",
    "y=0\n",
    "while y < len(lista_vacia):\n",
    "    elemento=lista_vacia[y]\n",
    "    if elemento%2 == 0:\n",
    "        print(elemento)\n",
    "    y+=1"
   ]
  },
  {
   "attachments": {},
   "cell_type": "markdown",
   "metadata": {},
   "source": [
    "3) Resolver el punto anterior sin utilizar un ciclo while"
   ]
  },
  {
   "cell_type": "code",
   "execution_count": 10,
   "metadata": {},
   "outputs": [
    {
     "name": "stdout",
     "output_type": "stream",
     "text": [
      "-14\n",
      "-12\n",
      "-10\n",
      "-8\n",
      "-6\n",
      "-4\n",
      "-2\n"
     ]
    }
   ],
   "source": [
    "for z in lista_vacia:\n",
    "    if z%2 ==0:\n",
    "        print(z)"
   ]
  },
  {
   "attachments": {},
   "cell_type": "markdown",
   "metadata": {},
   "source": [
    "4) Utilizar el iterable para recorrer sólo los primeros 3 elementos"
   ]
  },
  {
   "cell_type": "code",
   "execution_count": 11,
   "metadata": {},
   "outputs": [
    {
     "name": "stdout",
     "output_type": "stream",
     "text": [
      "-15\n",
      "-14\n",
      "-13\n"
     ]
    }
   ],
   "source": [
    "b=iter(lista_vacia)\n",
    "print(next(b))\n",
    "print(next(b))\n",
    "print(next(b))"
   ]
  },
  {
   "cell_type": "code",
   "execution_count": 12,
   "metadata": {},
   "outputs": [
    {
     "name": "stdout",
     "output_type": "stream",
     "text": [
      "-15\n",
      "-14\n",
      "-13\n"
     ]
    }
   ],
   "source": [
    "for t in lista_vacia[:3]:\n",
    "    print(t)"
   ]
  },
  {
   "attachments": {},
   "cell_type": "markdown",
   "metadata": {},
   "source": [
    "5) Utilizar la función **enumerate** para obtener dentro del iterable, tambien el índice al que corresponde el elemento"
   ]
  },
  {
   "cell_type": "code",
   "execution_count": 13,
   "metadata": {},
   "outputs": [
    {
     "name": "stdout",
     "output_type": "stream",
     "text": [
      "(0, -15)\n",
      "(1, -14)\n",
      "(2, -13)\n",
      "(3, -12)\n",
      "(4, -11)\n",
      "(5, -10)\n",
      "(6, -9)\n",
      "(7, -8)\n",
      "(8, -7)\n",
      "(9, -6)\n",
      "(10, -5)\n",
      "(11, -4)\n",
      "(12, -3)\n",
      "(13, -2)\n",
      "(14, -1)\n"
     ]
    }
   ],
   "source": [
    "for w in enumerate(lista_vacia):\n",
    "    print(w)"
   ]
  },
  {
   "attachments": {},
   "cell_type": "markdown",
   "metadata": {},
   "source": [
    "6) Dada la siguiente lista de números enteros entre 1 y 20, crear un ciclo donde se completen los valores faltantes: lista = [1,2,5,7,8,10,13,14,15,17,20]"
   ]
  },
  {
   "cell_type": "code",
   "execution_count": 32,
   "metadata": {},
   "outputs": [
    {
     "name": "stdout",
     "output_type": "stream",
     "text": [
      "[1, 2, 3, 4, 5, 6, 7, 8, 9, 10, 11, 12, 13, 14, 15, 16, 17, 18, 19, 20]\n"
     ]
    }
   ],
   "source": [
    "lista_1=[1,2,5,7,8,10,13,14,15,17,20]\n",
    "for p in range(1,21):\n",
    "    s=p in lista_1\n",
    "    if s == False:\n",
    "     lista_1.append(p)\n",
    "lista_1.sort()\n",
    "print(lista_1)"
   ]
  },
  {
   "cell_type": "code",
   "execution_count": 34,
   "metadata": {},
   "outputs": [
    {
     "name": "stdout",
     "output_type": "stream",
     "text": [
      "[1, 2, 3, 4, 5, 6, 7, 8, 9, 10, 11, 12, 13, 14, 15, 16, 17, 18, 19, 20]\n"
     ]
    }
   ],
   "source": [
    "#Este es el que estaba en el resuelto otra forma de hacerlo ver que aquí ingresa el numero faltante en el indice con insert, esto puede servir en listas en donde el orden sea distinto a el orden numerico o alfabetico\n",
    "lista = [1,2,5,7,8,10,13,14,15,17,20]\n",
    "n = 1  # Inicializa la variable n con el valor 1\n",
    "\n",
    "while n <= 20:  # Mientras n sea menor o igual a 20, se ejecuta el bucle\n",
    "    if not (n in lista):  # Verifica si n no está presente en la lista\n",
    "        lista.insert(n-1, n)  # Inserta el valor de n en la posición (n-1) de la lista\n",
    "    n += 1  # Incrementa el valor de n en 1 en cada iteración\n",
    "\n",
    "print(lista)  # Imprime la lista resultante"
   ]
  },
  {
   "attachments": {},
   "cell_type": "markdown",
   "metadata": {},
   "source": [
    "7) La sucesión de Fibonacci es un listado de números que sigue la fórmula: <br>\n",
    "n<sub>0</sub> = 0<br>\n",
    "n<sub>1</sub> = 1<br>\n",
    "n<sub>i</sub> = n<sub>i-1</sub> + n<sub>i-2</sub><br>\n",
    "Crear una lista con los primeros treinta números de la sucesión.<br>"
   ]
  },
  {
   "cell_type": "code",
   "execution_count": 37,
   "metadata": {},
   "outputs": [
    {
     "name": "stdout",
     "output_type": "stream",
     "text": [
      "[0, 1, 1, 2, 3, 5, 8, 13, 21, 34, 55, 89, 144, 233, 377, 610, 987, 1597, 2584, 4181, 6765, 10946, 17711, 28657, 46368, 75025, 121393, 196418, 317811, 514229]\n"
     ]
    }
   ],
   "source": [
    "\n",
    "lista_fibo=[0,1]\n",
    "while len(lista_fibo)<30:\n",
    "    x=len(lista_fibo)\n",
    "    n1=lista_fibo[x-1]\n",
    "    n2=lista_fibo[x-2]\n",
    "    numero_fibo=n1+n2\n",
    "    lista_fibo.append(numero_fibo)\n",
    "print(lista_fibo)\n",
    "\n"
   ]
  },
  {
   "cell_type": "code",
   "execution_count": 43,
   "metadata": {},
   "outputs": [
    {
     "name": "stdout",
     "output_type": "stream",
     "text": [
      "[0, 1, 1, 2, 3, 5, 8, 13, 21, 34, 55, 89, 144, 233, 377, 610, 987, 1597, 2584, 4181, 6765, 10946, 17711, 28657, 46368, 75025, 121393, 196418, 317811, 514229]\n"
     ]
    }
   ],
   "source": [
    "#codigo de la tarea ya resuelta \n",
    "#muy similar las diferencias son que se usa una variuable dada en vez de la longitu de la lista con lo cual se tienbe que ir aumentando la variable y yo dentro del coclo while designe varias variables para hacerlo mas comprensivo a mi parecer ambas formas son buenas\n",
    "fibo = [0, 1]  # Crea una lista inicial con los primeros dos números de la secuencia de Fibonacci\n",
    "\n",
    "n = 2  # Inicializa la variable n con el valor 2\n",
    "\n",
    "while n < 30:  # Mientras n sea menor que 30, se ejecuta el bucle\n",
    "    fibo.append(fibo[n - 1] + fibo[n - 2])  # Agrega el siguiente número de Fibonacci a la lista\n",
    "    n += 1  # Incrementa el valor de n en 1 en cada iteración\n",
    "\n",
    "print(fibo)  # Imprime la lista de la secuencia de Fibonacci\n"
   ]
  },
  {
   "attachments": {},
   "cell_type": "markdown",
   "metadata": {},
   "source": [
    "8) Realizar la suma de todos elementos de la lista del punto anterior"
   ]
  },
  {
   "cell_type": "code",
   "execution_count": 40,
   "metadata": {},
   "outputs": [
    {
     "data": {
      "text/plain": [
       "1346268"
      ]
     },
     "execution_count": 40,
     "metadata": {},
     "output_type": "execute_result"
    }
   ],
   "source": [
    "sum(lista_fibo)"
   ]
  },
  {
   "attachments": {},
   "cell_type": "markdown",
   "metadata": {},
   "source": [
    "9) La proporción aurea se expresa con una proporción matemática que nace el número irracional Phi= 1,618… que los griegos llamaron número áureo. El cuál se puede aproximar con la sucesión de Fibonacci. Con la lista del ejercicio anterior, imprimir el cociente de los últimos 5 pares de dos números contiguos:<br>\n",
    "Donde i es la cantidad total de elementos<br>\n",
    "n<sub>i-1</sub> / n<sub>i</sub><br>\n",
    "n<sub>i-2</sub> / n<sub>i-1</sub><br>\n",
    "n<sub>i-3</sub> / n<sub>i-2</sub><br>\n",
    "n<sub>i-4</sub> / n<sub>i-3</sub><br>\n",
    "n<sub>i-5</sub> / n<sub>i-4</sub><br>\n",
    " "
   ]
  },
  {
   "cell_type": "code",
   "execution_count": 70,
   "metadata": {},
   "outputs": [
    {
     "name": "stdout",
     "output_type": "stream",
     "text": [
      "el número 514229 entre el numero 317811 es 1.6180339887543225\n",
      "el número 317811 entre el numero 196418 es 1.618033988738303\n",
      "el número 196418 entre el numero 121393 es 1.6180339887802426\n",
      "el número 121393 entre el numero 75025 es 1.6180339886704431\n",
      "el número 75025 entre el numero 46368 es 1.618033988957902\n"
     ]
    }
   ],
   "source": [
    "y=len(lista_fibo)\n",
    "z=y-1\n",
    "for a in range(0,5):\n",
    "    print(f'el número {lista_fibo[z-a]} entre el numero {lista_fibo[z-(1+a)]} es {lista_fibo[z-a]/lista_fibo[z-(1+a)]}')"
   ]
  },
  {
   "attachments": {},
   "cell_type": "markdown",
   "metadata": {},
   "source": [
    "10) A partir de la variable cadena ya dada, mostrar en qué posiciones aparece la letra \"n\"<br>\n",
    "cadena = 'Hola Mundo. Esto es una practica del lenguaje de programación Python'"
   ]
  },
  {
   "cell_type": "code",
   "execution_count": 95,
   "metadata": {},
   "outputs": [
    {
     "name": "stdout",
     "output_type": "stream",
     "text": [
      "(7, 'n')\n",
      "(21, 'n')\n",
      "(39, 'n')\n",
      "(60, 'n')\n",
      "(67, 'n')\n"
     ]
    }
   ],
   "source": [
    "cadena='Hola Mundo. Esto es una practica del lengujae de programación Python'\n",
    "for enes in enumerate(cadena):\n",
    "    n='n'\n",
    "    if not(n in enes):\n",
    "        continue\n",
    "    else:\n",
    "        print(enes)\n"
   ]
  },
  {
   "cell_type": "code",
   "execution_count": null,
   "metadata": {},
   "outputs": [],
   "source": [
    "#codigo de la tarea resuelta, desempaqueta la tupla de enumerate en dos variables 'i' y 'c'. 'i' es el idice y 'c' el elemento de la cadena si el elemento es n imprime el indice\n",
    "#codigo más practico. Nota: se puede usar el desempaquetado de tuplas en un ciclo for \n",
    "cadena = 'Hola Mundo. Esto es una practica del lenguaje de programación Python'\n",
    "\n",
    "for i, c in enumerate(cadena):  # Itera sobre la cadena y obtiene el índice y el carácter en cada iteración\n",
    "    if c == 'n':  # Verifica si el carácter es igual a 'n'\n",
    "        print(i)  # Imprime el índice correspondiente al carácter 'n'"
   ]
  },
  {
   "attachments": {},
   "cell_type": "markdown",
   "metadata": {},
   "source": [
    "11) Crear un diccionario e imprimir sus claves utilizando un iterador"
   ]
  },
  {
   "cell_type": "code",
   "execution_count": 104,
   "metadata": {},
   "outputs": [
    {
     "name": "stdout",
     "output_type": "stream",
     "text": [
      "dict_keys(['nombre', 'edad', 'sexo'])\n",
      "nombre\n",
      "edad\n",
      "sexo\n",
      "nombre\n",
      "edad\n",
      "sexo\n"
     ]
    }
   ],
   "source": [
    "diccionario1={'nombre':'jorge', 'edad':29, 'sexo': 'masculino'}\n",
    "\n",
    "print(diccionario1.keys())\n",
    "\n",
    "c=iter(diccionario1)\n",
    "print(next(c))\n",
    "print(next(c))\n",
    "print(next(c))\n",
    "\n",
    "for ter in diccionario1:\n",
    "    print(ter)\n",
    "\n",
    "#nota se puede hacer de muchas fornmas: con la función establecidad de .keys (aunque no sé si es un iterador); con un iterador manual; con un ciclo for. Notar que al iterar solo da las claves no los valores"
   ]
  },
  {
   "attachments": {},
   "cell_type": "markdown",
   "metadata": {},
   "source": [
    "12) Convertir en una lista la variable \"cadena\" del punto 10 y luego recorrerla con un iterador "
   ]
  },
  {
   "cell_type": "code",
   "execution_count": 106,
   "metadata": {},
   "outputs": [
    {
     "name": "stdout",
     "output_type": "stream",
     "text": [
      "H\n",
      "o\n",
      "l\n",
      "a\n",
      " \n",
      "M\n",
      "u\n",
      "n\n",
      "d\n",
      "o\n",
      ".\n",
      " \n",
      "E\n",
      "s\n",
      "t\n",
      "o\n",
      " \n",
      "e\n",
      "s\n",
      " \n",
      "u\n",
      "n\n",
      "a\n",
      " \n",
      "p\n",
      "r\n",
      "a\n",
      "c\n",
      "t\n",
      "i\n",
      "c\n",
      "a\n",
      " \n",
      "d\n",
      "e\n",
      "l\n",
      " \n",
      "l\n",
      "e\n",
      "n\n",
      "g\n",
      "u\n",
      "j\n",
      "a\n",
      "e\n",
      " \n",
      "d\n",
      "e\n",
      " \n",
      "p\n",
      "r\n",
      "o\n",
      "g\n",
      "r\n",
      "a\n",
      "m\n",
      "a\n",
      "c\n",
      "i\n",
      "ó\n",
      "n\n",
      " \n",
      "P\n",
      "y\n",
      "t\n",
      "h\n",
      "o\n",
      "n\n"
     ]
    }
   ],
   "source": [
    "lista_cadena=list(cadena)\n",
    "for yi in lista_cadena:\n",
    "    print(yi)\n"
   ]
  },
  {
   "cell_type": "code",
   "execution_count": 107,
   "metadata": {},
   "outputs": [
    {
     "name": "stdout",
     "output_type": "stream",
     "text": [
      "<class 'str'>\n",
      "<class 'list'>\n",
      "H\n",
      "o\n",
      "l\n",
      "a\n",
      " \n",
      "M\n",
      "u\n",
      "n\n",
      "d\n",
      "o\n",
      ".\n",
      " \n",
      "E\n",
      "s\n",
      "t\n",
      "o\n",
      " \n",
      "e\n",
      "s\n",
      " \n",
      "u\n",
      "n\n",
      "a\n",
      " \n",
      "p\n",
      "r\n",
      "a\n",
      "c\n",
      "t\n",
      "i\n",
      "c\n",
      "a\n",
      " \n",
      "d\n",
      "e\n",
      "l\n",
      " \n",
      "l\n",
      "e\n",
      "n\n",
      "g\n",
      "u\n",
      "a\n",
      "j\n",
      "e\n",
      " \n",
      "d\n",
      "e\n",
      " \n",
      "p\n",
      "r\n",
      "o\n",
      "g\n",
      "r\n",
      "a\n",
      "m\n",
      "a\n",
      "c\n",
      "i\n",
      "ó\n",
      "n\n",
      " \n",
      "P\n",
      "y\n",
      "t\n",
      "h\n",
      "o\n",
      "n\n"
     ]
    }
   ],
   "source": [
    "#codigo de l atarea resuelta al igual que en el punto anterior nos damos cuenta que se puede hacer con un ciclo for o un iterador. En estops casos en espécifio el ciclo for es más práctico \n",
    "#Se debe analizar cada caso para saber cual usar un ciclo for o un iterador manual \n",
    "cadena = 'Hola Mundo. Esto es una practica del lenguaje de programación Python'\n",
    "print(type(cadena))  # Imprime el tipo de dato de la variable cadena\n",
    "\n",
    "cadena = list(cadena)  # Convierte la cadena en una lista\n",
    "print(type(cadena))  # Imprime el tipo de dato de la variable cadena después de convertirla en una lista\n",
    "recorre = iter(cadena)  # Crea un iterador a partir de la cadena\n",
    "largo = len(cadena)  # Obtiene la longitud de la cadena\n",
    "for i in range(0, largo):  # Itera sobre el rango de índices desde 0 hasta largo-1\n",
    "    print(next(recorre))  # Imprime el próximo elemento del iterador"
   ]
  },
  {
   "attachments": {},
   "cell_type": "markdown",
   "metadata": {},
   "source": [
    "13) Crear dos listas y unirlas en una tupla utilizando la función zip"
   ]
  },
  {
   "cell_type": "code",
   "execution_count": 113,
   "metadata": {},
   "outputs": [
    {
     "name": "stdout",
     "output_type": "stream",
     "text": [
      "[(1, 'a'), (2, 'b'), (3, 'c'), (4, 'd'), (5, 'e')]\n"
     ]
    }
   ],
   "source": [
    "lista1=[1,2,3,4,5]\n",
    "lista2=['a','b','c','d','e']\n",
    "lista3=zip(lista1,lista2)\n",
    "print(list(lista3))\n"
   ]
  },
  {
   "attachments": {},
   "cell_type": "markdown",
   "metadata": {},
   "source": [
    "14) A partir de la siguiente lista de números, crear una nueva sólo si el número es divisible por 7<br>\n",
    "lis = [18,21,29,32,35,42,56,60,63,71,84,90,91,100]"
   ]
  },
  {
   "cell_type": "code",
   "execution_count": 114,
   "metadata": {},
   "outputs": [
    {
     "name": "stdout",
     "output_type": "stream",
     "text": [
      "[21, 35, 42, 56, 63, 84, 91]\n"
     ]
    }
   ],
   "source": [
    "lis = [18,21,29,32,35,42,56,60,63,71,84,90,91,100]\n",
    "lisnueva=[x7 for x7 in lis if x7%7==0 ]\n",
    "print(lisnueva)"
   ]
  },
  {
   "attachments": {},
   "cell_type": "markdown",
   "metadata": {},
   "source": [
    "15) A partir de la lista de a continuación, contar la cantidad total de elementos que contiene, teniendo en cuenta que un elemento de la lista podría ser otra lista:<br>\n",
    "lis = [[1,2,3,4],'rojo','verde',[True,False,False],['uno','dos','tres']]"
   ]
  },
  {
   "cell_type": "code",
   "execution_count": 136,
   "metadata": {},
   "outputs": [
    {
     "name": "stdout",
     "output_type": "stream",
     "text": [
      "5\n",
      "12\n"
     ]
    }
   ],
   "source": [
    "#Hay varias formas de resolver esto con len() sabremos de forma rápida cuantos elementos hay en esa lista \n",
    "lis9 = [[1,2,3,4],'rojo','verde',[True,False,False],['uno','dos','tres']]\n",
    "print(len(lis9))\n",
    "# Si lo que  nos pide es que contemos a cada elemento de listas en la lista como un elemento de la lista principal debemos hacer otro codigo\n",
    "# tener cuidado de no sumar a la lista vacia como elemento es decir la lista[1,2,3,4] sumaría 4 elementos pero ya no se consideraría a esa lista como un elemento de la original \n",
    "#O  es lo que entiendo según las instrucciones ya que son un poco ambiguas \n",
    "#El siguiente codigo cuenta a los elementos uno por uno pero no a las listas como elemento si no a sus elementos \n",
    "listcont=[]\n",
    "for contar in lis9:\n",
    "    if not(type(contar)==list):\n",
    "        listcont.append(1)\n",
    "    else:\n",
    "        listcont.append(len(contar))\n",
    "print(sum(listcont))\n"
   ]
  },
  {
   "cell_type": "code",
   "execution_count": 137,
   "metadata": {},
   "outputs": [
    {
     "name": "stdout",
     "output_type": "stream",
     "text": [
      "La cantidad total de elementos es 12\n"
     ]
    }
   ],
   "source": [
    "#Codigo de l atarea resuelta muy similar al mio solo que aquí usan un contador directo en vez de agrupar los elementos en una lista vacia y luego sumarla\n",
    "#Es más práctico el codigo de la tarea resuelta el contador facilita las cosas y ahorra pasos\n",
    "lis = [[1,2,3,4],'rojo','verde',[True,False,False],['uno','dos','tres']]\n",
    "cantidad = 0  # Inicialización del contador de elementos\n",
    "\n",
    "for elemento in lis:  # Iteración sobre cada elemento de la lista 'lis'\n",
    "    if type(elemento) == list:  # Verificación si el elemento es una lista\n",
    "        cantidad += len(elemento)  # Si es una lista, se incrementa el contador por la cantidad de elementos en esa lista\n",
    "    else:\n",
    "        cantidad += 1  # Si no es una lista, se incrementa el contador por 1, ya que se trata de un solo elemento\n",
    "\n",
    "print('La cantidad total de elementos es', cantidad)  # Impresión del resultado final"
   ]
  },
  {
   "attachments": {},
   "cell_type": "markdown",
   "metadata": {},
   "source": [
    "16) Tomar la lista del punto anterior y convertir cada elemento en una lista si no lo es"
   ]
  },
  {
   "cell_type": "code",
   "execution_count": 157,
   "metadata": {},
   "outputs": [
    {
     "name": "stdout",
     "output_type": "stream",
     "text": [
      "[[1, 2, 3, 4], ['r', 'o', 'j', 'o'], ['v', 'e', 'r', 'd', 'e'], [True, False, False], ['uno', 'dos', 'tres']]\n"
     ]
    }
   ],
   "source": [
    "lis = [[1,2,3,4],'rojo','verde',[True,False,False],['uno','dos','tres']]\n",
    "lis2=[]\n",
    "for ttt in lis:\n",
    "    if not(type(ttt)==list):\n",
    "       lis2.append(list(ttt))\n",
    "    else:\n",
    "        lis2.append(ttt)\n",
    "print(lis2)\n"
   ]
  },
  {
   "cell_type": "code",
   "execution_count": 156,
   "metadata": {},
   "outputs": [
    {
     "name": "stdout",
     "output_type": "stream",
     "text": [
      "[[1, 2, 3, 4], ['rojo'], ['verde'], [True, False, False], ['uno', 'dos', 'tres'], [5]]\n"
     ]
    }
   ],
   "source": [
    "#codigo de la tarea resuelta \n",
    "#Ambos muy diferentes y correctos según la interpretación del problema 'convertir cada elemento en una lista' es distinto a hacer una lista 'con cada elemento'\n",
    "# en mi codigo cada elemento se conviertre en una lista por eso rojo pasa a ser [r,o,j,o] que si tu das x=rojo y luego list(x) te va a dar como resultado [r,o,j,o]\n",
    "# en la tarea si un elemento no es una lista lo toma y lo sustituye por una lista con un elemento unico que era ese elemento \n",
    "#Las diferencias es que de esa forma si podrías hcaer listas de datos de tipo int, float, bool ya que si un elemento por si solo no es iterable no lo puedes meter en list() \n",
    "#Creo que los mas optimo sería una mezcla de ambos codigos para hacer listas los str y no una lista con ese elemento y el código resuelto para poder hacer listas los int, floats y otros datos no iterables\n",
    "\n",
    "for indice, elemento in enumerate(lis):  # Iteración sobre cada elemento de la lista 'lis' junto con su índice\n",
    "    if type(elemento) != list:  # Verificación si el elemento no es una lista\n",
    "        lis[indice] = [elemento]  # Si no es una lista, se reemplaza por una lista que contiene ese elemento\n",
    "\n",
    "print(lis)  # Impresión de la lista modificada"
   ]
  }
 ],
 "metadata": {
  "interpreter": {
   "hash": "c85384e4cb51c8b72350f3a8712cc8351fdc3955e32a27f9b60c6242ab125f01"
  },
  "kernelspec": {
   "display_name": "Python 3 (ipykernel)",
   "language": "python",
   "name": "python3"
  },
  "language_info": {
   "codemirror_mode": {
    "name": "ipython",
    "version": 3
   },
   "file_extension": ".py",
   "mimetype": "text/x-python",
   "name": "python",
   "nbconvert_exporter": "python",
   "pygments_lexer": "ipython3",
   "version": "3.10.5"
  }
 },
 "nbformat": 4,
 "nbformat_minor": 4
}
